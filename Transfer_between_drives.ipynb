{
  "nbformat": 4,
  "nbformat_minor": 0,
  "metadata": {
    "colab": {
      "name": "Transfer between drives",
      "provenance": [],
      "collapsed_sections": [
        "8fwCwnWtQo3n",
        "Zpsd7UgqQ6LN",
        "dAFl-ZzjUkNb"
      ],
      "include_colab_link": true
    },
    "kernelspec": {
      "name": "python3",
      "display_name": "Python 3"
    }
  },
  "cells": [
    {
      "cell_type": "markdown",
      "metadata": {
        "id": "view-in-github",
        "colab_type": "text"
      },
      "source": [
        "<a href=\"https://colab.research.google.com/github/tritom88/HEROKU-RCLONE-SERVE-INDEX/blob/main/Transfer_between_drives.ipynb\" target=\"_parent\"><img src=\"https://colab.research.google.com/assets/colab-badge.svg\" alt=\"Open In Colab\"/></a>"
      ]
    },
    {
      "cell_type": "markdown",
      "metadata": {
        "id": "naZmcDJkUTgw"
      },
      "source": [
        "# **<font color='blue'> Transfer Between Drives - Created by [Cheems](https://github.com/cheems) </font>**"
      ]
    },
    {
      "cell_type": "markdown",
      "metadata": {
        "id": "8fwCwnWtQo3n"
      },
      "source": [
        "#__Mount Drives__"
      ]
    },
    {
      "cell_type": "code",
      "metadata": {
        "id": "WUCDtG2sQKMw",
        "cellView": "form"
      },
      "source": [
        "#@markdown ###_Mount Drive-01 to /content/drive-01_\n",
        "from google.colab import drive\n",
        "drive.mount('/content/drive-01')"
      ],
      "execution_count": null,
      "outputs": []
    },
    {
      "cell_type": "code",
      "metadata": {
        "id": "kCON2oKOQgIx",
        "cellView": "form"
      },
      "source": [
        "#@markdown ###_Mount Drive-02 to /content/drive-02_\n",
        "!apt-get install -y -qq software-properties-common module-init-tools\n",
        "!add-apt-repository -y ppa:alessandro-strada/ppa 2>&1 > /dev/null\n",
        "!apt-get update -qq 2>&1 > /dev/null\n",
        "!apt-get -y install -qq google-drive-ocamlfuse fuse\n",
        "from google.colab import auth\n",
        "auth.authenticate_user()\n",
        "from oauth2client.client import GoogleCredentials\n",
        "creds = GoogleCredentials.get_application_default()\n",
        "import getpass\n",
        "!google-drive-ocamlfuse -headless -id={creds.client_id} -secret={creds.client_secret} < /dev/null 2>&1 | grep URL\n",
        "vcode = getpass.getpass()\n",
        "!echo {vcode} | google-drive-ocamlfuse -headless -id={creds.client_id} -secret={creds.client_secret}\n",
        "!mkdir -p /content/drive-02\n",
        "!google-drive-ocamlfuse /content/drive-02"
      ],
      "execution_count": null,
      "outputs": []
    },
    {
      "cell_type": "markdown",
      "metadata": {
        "id": "Zpsd7UgqQ6LN"
      },
      "source": [
        "#__Copy Folders__"
      ]
    },
    {
      "cell_type": "code",
      "metadata": {
        "id": "ogOo8NqDRcJj",
        "cellView": "form"
      },
      "source": [
        "#@markdown *Input folder will be copied into the destination folder.*\n",
        "input_folder = \"\" #@param {type:\"string\"}\n",
        "destination_folder = \"\" #@param {type:\"string\"}\n",
        "!cp -a -v \"$input_folder\" \"$destination_folder\"\n",
        "print(\"Copied successfully!\")"
      ],
      "execution_count": null,
      "outputs": []
    },
    {
      "cell_type": "markdown",
      "metadata": {
        "id": "dAFl-ZzjUkNb"
      },
      "source": [
        "#__Copy Files__"
      ]
    },
    {
      "cell_type": "code",
      "metadata": {
        "cellView": "form",
        "id": "7ZsuNEmuUkNc"
      },
      "source": [
        "#@markdown *Input file will be copied into the destination folder.*\n",
        "input_file = \"\" #@param {type:\"string\"}\n",
        "destination_folder = \"\" #@param {type:\"string\"}\n",
        "!cp -v \"$input_file\" \"$destination_folder\"\n",
        "print(\"Copied successfully!\")"
      ],
      "execution_count": null,
      "outputs": []
    },
    {
      "cell_type": "markdown",
      "metadata": {
        "id": "QYn5ByS7VJE-"
      },
      "source": [
        "# 📚 Follow me on GitHub for more: [_@cheems_](https://github.com/cheems)\n",
        "# 📦 Repo: [Github](https://github.com/cheems/transfer-between-drives)"
      ]
    }
  ]
}